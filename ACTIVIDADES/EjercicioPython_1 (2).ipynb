{
  "nbformat": 4,
  "nbformat_minor": 0,
  "metadata": {
    "colab": {
      "provenance": []
    },
    "kernelspec": {
      "name": "python3",
      "display_name": "Python 3"
    },
    "language_info": {
      "name": "python"
    }
  },
  "cells": [
    {
      "cell_type": "markdown",
      "source": [
        "Ejercicios en Python / Diego Armando Trejo Piña / #1903825 / Hora:N1"
      ],
      "metadata": {
        "id": "h3K46K3CENY1"
      }
    },
    {
      "cell_type": "code",
      "source": [
        "# 1.- Desarrolla un algoritmo que le pida al usuario por su nombre y que lo salude con su nombre, excepto si se llama “Ana”, “Juan”, y “Pedro”.\n",
        "\n",
        "Name = input(\"¿Cual es tu nombre?: \")\n",
        "\n",
        "if Name in [\"Ana\", \"Juan\", \"Pedro\"]:\n",
        "    print(\"Lo siento, no te puedo saludar\")\n",
        "else:\n",
        "    print(\"Hola \" + Name + \", Mucho gusto!\")\n"
      ],
      "metadata": {
        "colab": {
          "base_uri": "https://localhost:8080/"
        },
        "id": "ebOorFRKhIS5",
        "outputId": "c5b5eef0-f875-46d8-daae-c6cf759ff670"
      },
      "execution_count": 7,
      "outputs": [
        {
          "output_type": "stream",
          "name": "stdout",
          "text": [
            "¿Cual es tu nombre?: Ana\n",
            "Lo siento, no te puedo saludar\n"
          ]
        }
      ]
    },
    {
      "cell_type": "code",
      "source": [
        "# 2.-Desarrolla un algoritmo que por medio de una función, le pida al usuario una lista de N elementos y como resultado invierta el sentido de la lista.\n",
        "\n",
        "def invertir_lista(lista):\n",
        "    n = len(lista)\n",
        "    for i in range(n//2):\n",
        "        lista[i], lista[n-i-1] = lista[n-i-1], lista[i]\n",
        "    return lista\n",
        "\n",
        "n = int(input(\"Ingresa la cantidad de elementos de la lista: \"))\n",
        "lista = []\n",
        "for i in range(n):\n",
        "    elemento = input(\"Ingresa el elemento {}: \".format(i+1))\n",
        "    lista.append(elemento)\n",
        "\n",
        "lista_invertida = invertir_lista(lista)\n",
        "print(\"La lista invertida es:\", lista_invertida)\n"
      ],
      "metadata": {
        "id": "nO-0ajw0knRg",
        "colab": {
          "base_uri": "https://localhost:8080/"
        },
        "outputId": "3dec1516-50ab-45e5-bf7f-e800f49b3a56"
      },
      "execution_count": 8,
      "outputs": [
        {
          "output_type": "stream",
          "name": "stdout",
          "text": [
            "Ingresa la cantidad de elementos de la lista: 2\n",
            "Ingresa el elemento 1: si\n",
            "Ingresa el elemento 2: no\n",
            "La lista invertida es: ['no', 'si']\n"
          ]
        }
      ]
    },
    {
      "cell_type": "code",
      "source": [
        "# 3.-Desarrolla un algoritmo que le pregunte al usuario cuántos números de la serie de Fibonnaci quiere generar y que al final los imprima. \n",
        "\n",
        "n = int(input(\"Cantidad de números de la serie de Fibonacci que desea generar: \"))\n",
        "\n",
        "fibonacci = [0, 1]\n",
        "for i in range(2, n):\n",
        "    fibonacci.append(fibonacci[i-1] + fibonacci[i-2])\n",
        "\n",
        "print(\"La serie de Fibonacci es:\", fibonacci)\n"
      ],
      "metadata": {
        "id": "zSCUvP23pxdI",
        "colab": {
          "base_uri": "https://localhost:8080/"
        },
        "outputId": "ccdc2387-bd2a-4151-d126-8dcd0cb00365"
      },
      "execution_count": 3,
      "outputs": [
        {
          "output_type": "stream",
          "name": "stdout",
          "text": [
            "Cantidad de números de la serie de Fibonacci que desea generar: 8\n",
            "La serie de Fibonacci es: [0, 1, 1, 2, 3, 5, 8, 13]\n"
          ]
        }
      ]
    }
  ]
}